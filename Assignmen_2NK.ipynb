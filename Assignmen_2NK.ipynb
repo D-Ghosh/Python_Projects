{
 "cells": [
  {
   "cell_type": "code",
   "execution_count": 1,
   "metadata": {},
   "outputs": [
    {
     "name": "stdout",
     "output_type": "stream",
     "text": [
      "float64\n",
      "Transpose of matrix\n",
      " [[ 1  5  9]\n",
      " [ 2  6 10]\n",
      " [ 3  7 11]\n",
      " [ 4  8 12]]\n"
     ]
    }
   ],
   "source": [
    "# Q1\n",
    "import numpy as np\n",
    "a = np.array([1, 2, 3, 4, 5, 6, 7, 8, 9, 10, 11, 12])\n",
    "b = a.reshape(3, 4)\n",
    "c = np.array([1, 2, 3, 4, 5, 6, 7, 8, 9, 10, 11, 12], dtype = float)\n",
    "print(c.dtype)\n",
    "print(\"Transpose of matrix\\n\", b.T)"
   ]
  },
  {
   "cell_type": "code",
   "execution_count": 2,
   "metadata": {},
   "outputs": [
    {
     "name": "stdout",
     "output_type": "stream",
     "text": [
      "2\n",
      "2\n"
     ]
    }
   ],
   "source": [
    "# Q2\n",
    "a = [1, 2, 3, 4, 5, 6]\n",
    "b = np.array(a)\n",
    "c = b.reshape(2, 3)\n",
    "print(c.ndim)\n",
    "\n",
    "c = np.array([1, 2, 3, 4, 5, 6]).reshape(2, 3)\n",
    "print(c.ndim)"
   ]
  },
  {
   "cell_type": "code",
   "execution_count": 3,
   "metadata": {},
   "outputs": [
    {
     "name": "stdout",
     "output_type": "stream",
     "text": [
      "[[ 1  3  5]\n",
      " [ 7  9 11]]\n"
     ]
    }
   ],
   "source": [
    "# Q3\n",
    "a = np.arange(1, 13, 2).reshape(2, 3)\n",
    "print(a)"
   ]
  },
  {
   "cell_type": "code",
   "execution_count": 4,
   "metadata": {},
   "outputs": [
    {
     "name": "stdout",
     "output_type": "stream",
     "text": [
      "[ 7  9 11 13 15]\n",
      "[-5 -5 -5 -5 -5]\n",
      "[ 217  351  539  793 1125]\n",
      "1\n",
      "10\n",
      "[1 1 1 1]\n",
      "[1 1 1 1]\n",
      "120\n",
      "30240\n",
      "3.0\n",
      "8.0\n"
     ]
    }
   ],
   "source": [
    "# Q4\n",
    "# i\n",
    "a = np.arange(1, 6)\n",
    "b = np.arange(6, 11)\n",
    "print(a + b)\n",
    "print(a - b)\n",
    "print(a**3 + b**3)\n",
    "# ii\n",
    "\n",
    "print(min(a))\n",
    "print(max(b))\n",
    "# iii\n",
    "\n",
    "print(np.diff(a))\n",
    "print(np.diff(b))\n",
    "# iv\n",
    "\n",
    "print(np.prod(a))\n",
    "print(np.prod(b))\n",
    "# v\n",
    "\n",
    "print(np.mean(a))\n",
    "print(np.mean(b))"
   ]
  },
  {
   "cell_type": "code",
   "execution_count": 5,
   "metadata": {},
   "outputs": [
    {
     "name": "stdout",
     "output_type": "stream",
     "text": [
      "2269\n"
     ]
    }
   ],
   "source": [
    "# Q5\n",
    "a = np.array([i**2 + 1 for i in range(1, 7)])\n",
    "b = np.array([i**2 - 1 for i in range(1, 7)])\n",
    "a.reshape(2, 3)\n",
    "b.reshape(3, 2)\n",
    "print(np.dot(a, b))"
   ]
  },
  {
   "cell_type": "code",
   "execution_count": 6,
   "metadata": {},
   "outputs": [
    {
     "name": "stdout",
     "output_type": "stream",
     "text": [
      "[[-3.         -1.63636364 -0.27272727  1.09090909]\n",
      " [ 2.45454545  3.81818182  5.18181818  6.54545455]\n",
      " [ 7.90909091  9.27272727 10.63636364 12.        ]]\n"
     ]
    }
   ],
   "source": [
    "# Q6\n",
    "a = np.linspace(-3, 12, 12).reshape(3, 4)\n",
    "print(a)"
   ]
  }
 ],
 "metadata": {
  "kernelspec": {
   "display_name": "Python 3",
   "language": "python",
   "name": "python3"
  },
  "language_info": {
   "codemirror_mode": {
    "name": "ipython",
    "version": 3
   },
   "file_extension": ".py",
   "mimetype": "text/x-python",
   "name": "python",
   "nbconvert_exporter": "python",
   "pygments_lexer": "ipython3",
   "version": "3.8.3"
  }
 },
 "nbformat": 4,
 "nbformat_minor": 4
}