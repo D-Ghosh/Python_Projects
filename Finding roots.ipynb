{
 "cells": [
  {
   "cell_type": "code",
   "execution_count": 1,
   "metadata": {},
   "outputs": [
    {
     "name": "stdout",
     "output_type": "stream",
     "text": [
      "Lower limit, upper limit, tolerance:\n",
      "2,3,0.001\n",
      "Root = 2.09423828125\n"
     ]
    }
   ],
   "source": [
    "# Root finding: Bisection Method\n",
    "# a, b -Two initial points\n",
    "# tol -Tolerance value (level of accuracy)\n",
    "\n",
    "import sys\n",
    "\n",
    "def f(x):\n",
    "    return x**3-2*x-5\n",
    "\n",
    "a, b, tol = eval(input(\"Lower limit, upper limit, tolerance:\\n\"))\n",
    "\n",
    "if f(a)*f(b) > 0:\n",
    "    print(\"No root in this interval\")\n",
    "    sys.exit()\n",
    "    \n",
    "while abs(b-a) >= tol:\n",
    "    xm = 0.5*(a+b)\n",
    "    if f(xm) == 0:\n",
    "        print(\"Root = \", xm)\n",
    "        sys.exit()\n",
    "        \n",
    "    if f(a)*f(xm) < 0:\n",
    "        b = xm\n",
    "    else:\n",
    "        a = xm\n",
    "        \n",
    "print(\"Root =\", 0.5*(a+b))\n"
   ]
  },
  {
   "cell_type": "code",
   "execution_count": null,
   "metadata": {},
   "outputs": [],
   "source": []
  }
 ],
 "metadata": {
  "kernelspec": {
   "display_name": "Python 3",
   "language": "python",
   "name": "python3"
  },
  "language_info": {
   "codemirror_mode": {
    "name": "ipython",
    "version": 3
   },
   "file_extension": ".py",
   "mimetype": "text/x-python",
   "name": "python",
   "nbconvert_exporter": "python",
   "pygments_lexer": "ipython3",
   "version": "3.8.3"
  }
 },
 "nbformat": 4,
 "nbformat_minor": 4
}
